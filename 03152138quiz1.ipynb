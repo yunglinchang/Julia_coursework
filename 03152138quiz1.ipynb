{
 "cells": [
  {
   "cell_type": "markdown",
   "metadata": {},
   "source": [
    "# (小考) 請用for迴圈 列印等腰三角形"
   ]
  },
  {
   "cell_type": "code",
   "execution_count": 1,
   "metadata": {},
   "outputs": [
    {
     "name": "stdout",
     "output_type": "stream",
     "text": [
      "      o\n",
      "    ooo\n",
      "  ooooo\n",
      "ooooooo\n"
     ]
    }
   ],
   "source": [
    "for i = 1:4\n",
    "    for k = i-1 : 2\n",
    "         print(\"  \")\n",
    "    end\n",
    "        for j = 1:i+(i-1)\n",
    "            print(\"o\")\n",
    "        end\n",
    "    println()\n",
    "end"
   ]
  },
  {
   "cell_type": "code",
   "execution_count": null,
   "metadata": {},
   "outputs": [],
   "source": []
  }
 ],
 "metadata": {
  "kernelspec": {
   "display_name": "Julia 1.0.1",
   "language": "julia",
   "name": "julia-1.0"
  },
  "language_info": {
   "file_extension": ".jl",
   "mimetype": "application/julia",
   "name": "julia",
   "version": "1.0.1"
  }
 },
 "nbformat": 4,
 "nbformat_minor": 2
}
