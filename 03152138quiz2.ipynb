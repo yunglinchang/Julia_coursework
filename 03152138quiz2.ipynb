{
 "cells": [
  {
   "cell_type": "markdown",
   "metadata": {},
   "source": [
    "# (課堂練習) 請用o畫出一個五層的棱形圖案\n",
    "檔名格式：學號quiz2\n",
    "ex:06370000quiz2.jl"
   ]
  },
  {
   "cell_type": "code",
   "execution_count": 13,
   "metadata": {},
   "outputs": [
    {
     "name": "stdout",
     "output_type": "stream",
     "text": [
      "          o\n",
      "        ooo\n",
      "      ooooo\n",
      "    ooooooo\n",
      "  ooooooooo\n",
      "    ooooooo\n",
      "      ooooo\n",
      "        ooo\n",
      "          o\n"
     ]
    },
    {
     "ename": "ArgumentError",
     "evalue": "ArgumentError: can't repeat a string -1 times",
     "output_type": "error",
     "traceback": [
      "ArgumentError: can't repeat a string -1 times",
      "",
      "Stacktrace:",
      " [1] repeat(::String, ::Int64) at ./strings/substring.jl:176",
      " [2] ^ at ./strings/basic.jl:674 [inlined]",
      " [3] top-level scope at ./In[13]:9"
     ]
    }
   ],
   "source": [
    "for i = 1:5\n",
    "    j = 6-i\n",
    "    k = 2*i-1\n",
    "    println(\"  \"^j, \"o\"^k)\n",
    "end\n",
    "for i = 1:5\n",
    "    p = 9-2i\n",
    "    g = 1+i\n",
    "    println(\"  \"^g, \"o\"^p)\n",
    "end"
   ]
  },
  {
   "cell_type": "code",
   "execution_count": null,
   "metadata": {},
   "outputs": [],
   "source": []
  }
 ],
 "metadata": {
  "kernelspec": {
   "display_name": "Julia 1.0.1",
   "language": "julia",
   "name": "julia-1.0"
  },
  "language_info": {
   "file_extension": ".jl",
   "mimetype": "application/julia",
   "name": "julia",
   "version": "1.0.1"
  }
 },
 "nbformat": 4,
 "nbformat_minor": 2
}
