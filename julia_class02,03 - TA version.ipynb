{
 "cells": [
  {
   "cell_type": "code",
   "execution_count": 2,
   "metadata": {},
   "outputs": [
    {
     "data": {
      "text/plain": [
       "Int64"
      ]
     },
     "execution_count": 2,
     "metadata": {},
     "output_type": "execute_result"
    }
   ],
   "source": [
    "typeof(123)"
   ]
  },
  {
   "cell_type": "code",
   "execution_count": 3,
   "metadata": {},
   "outputs": [
    {
     "data": {
      "text/plain": [
       "Float64"
      ]
     },
     "execution_count": 3,
     "metadata": {},
     "output_type": "execute_result"
    }
   ],
   "source": [
    "typeof(3.14159)"
   ]
  },
  {
   "cell_type": "code",
   "execution_count": 4,
   "metadata": {},
   "outputs": [
    {
     "data": {
      "text/plain": [
       "Bool"
      ]
     },
     "execution_count": 4,
     "metadata": {},
     "output_type": "execute_result"
    }
   ],
   "source": [
    "typeof(true)"
   ]
  },
  {
   "cell_type": "code",
   "execution_count": 5,
   "metadata": {},
   "outputs": [
    {
     "data": {
      "text/plain": [
       "String"
      ]
     },
     "execution_count": 5,
     "metadata": {},
     "output_type": "execute_result"
    }
   ],
   "source": [
    "typeof(\"123\")"
   ]
  },
  {
   "cell_type": "code",
   "execution_count": 6,
   "metadata": {},
   "outputs": [
    {
     "data": {
      "text/plain": [
       "15"
      ]
     },
     "execution_count": 6,
     "metadata": {},
     "output_type": "execute_result"
    }
   ],
   "source": [
    "1+2+3+4+5"
   ]
  },
  {
   "cell_type": "code",
   "execution_count": 7,
   "metadata": {},
   "outputs": [
    {
     "data": {
      "text/plain": [
       "1-element Array{Float64,1}:\n",
       " 24.0"
      ]
     },
     "execution_count": 7,
     "metadata": {},
     "output_type": "execute_result"
    }
   ],
   "source": [
    "[(3+5)*6]/2"
   ]
  },
  {
   "cell_type": "code",
   "execution_count": 10,
   "metadata": {},
   "outputs": [
    {
     "name": "stdout",
     "output_type": "stream",
     "text": [
      "100>50? true\n"
     ]
    }
   ],
   "source": [
    "println(\"100>50? \", 100>50)"
   ]
  },
  {
   "cell_type": "markdown",
   "metadata": {},
   "source": [
    "Julia可以進行連續比較"
   ]
  },
  {
   "cell_type": "code",
   "execution_count": 13,
   "metadata": {},
   "outputs": [
    {
     "data": {
      "text/plain": [
       "true"
      ]
     },
     "execution_count": 13,
     "metadata": {},
     "output_type": "execute_result"
    }
   ],
   "source": [
    "1 < 20 < 100 > 50"
   ]
  },
  {
   "cell_type": "code",
   "execution_count": 12,
   "metadata": {},
   "outputs": [
    {
     "data": {
      "text/plain": [
       "false"
      ]
     },
     "execution_count": 12,
     "metadata": {},
     "output_type": "execute_result"
    }
   ],
   "source": [
    "1 < 20 < 100 < 50"
   ]
  },
  {
   "cell_type": "markdown",
   "metadata": {},
   "source": [
    "變數(將右邊的資料儲存的左邊變數)"
   ]
  },
  {
   "cell_type": "markdown",
   "metadata": {},
   "source": [
    "# If判斷式"
   ]
  },
  {
   "cell_type": "code",
   "execution_count": 15,
   "metadata": {},
   "outputs": [
    {
     "name": "stdout",
     "output_type": "stream",
     "text": [
      "x小於y\n"
     ]
    }
   ],
   "source": [
    "x = 0\n",
    "y = 5\n",
    "\n",
    "if x < y\n",
    "    println(\"x小於y\")\n",
    "end"
   ]
  },
  {
   "cell_type": "code",
   "execution_count": 16,
   "metadata": {},
   "outputs": [
    {
     "name": "stdout",
     "output_type": "stream",
     "text": [
      "x大於或等於y\n"
     ]
    }
   ],
   "source": [
    "x = 5\n",
    "y = 5\n",
    "\n",
    "if x < y\n",
    "    println(\"x小於y\")\n",
    "else\n",
    "    println(\"x大於或等於y\")\n",
    "end"
   ]
  },
  {
   "cell_type": "code",
   "execution_count": 18,
   "metadata": {},
   "outputs": [
    {
     "name": "stdout",
     "output_type": "stream",
     "text": [
      "x等於y\n"
     ]
    }
   ],
   "source": [
    "x = 5\n",
    "y = 5\n",
    "\n",
    "if x < y\n",
    "    println(\"x小於y\")\n",
    "elseif x > y\n",
    "    println(\"x大於y\")\n",
    "else\n",
    "    println(\"x等於y\")\n",
    "end"
   ]
  },
  {
   "cell_type": "code",
   "execution_count": null,
   "metadata": {},
   "outputs": [],
   "source": [
    "x = 5\n",
    "y = 5\n",
    "\n",
    "if x < y\n",
    "    println(\"x小於y\")\n",
    "elseif x > y\n",
    "    println(\"x大於y\")\n",
    "elseif x > y\n",
    "    println(\"x等於y\")\n",
    "else\n",
    "    println(\"例外狀況\")\n",
    "end"
   ]
  },
  {
   "cell_type": "markdown",
   "metadata": {},
   "source": [
    "練習時間"
   ]
  },
  {
   "cell_type": "code",
   "execution_count": 22,
   "metadata": {},
   "outputs": [
    {
     "name": "stdout",
     "output_type": "stream",
     "text": [
      "stdin> 20000\n",
      "這是成人票\n"
     ]
    }
   ],
   "source": [
    "price = parse(Float64, readline())\n",
    "\n",
    "if price < 100\n",
    "    println(\"這是兒童票\")\n",
    "elseif 100<= price <= 200\n",
    "    println(\"這是優待票\")\n",
    "else\n",
    "    println(\"這是成人票\")\n",
    "end"
   ]
  },
  {
   "cell_type": "markdown",
   "metadata": {},
   "source": [
    "應用範例-猜拳遊戲"
   ]
  },
  {
   "cell_type": "code",
   "execution_count": 25,
   "metadata": {},
   "outputs": [
    {
     "name": "stdout",
     "output_type": "stream",
     "text": [
      "請輸入：剪刀、石頭、布\n",
      "x\n",
      "stdin> 石頭\n",
      "y\n",
      "stdin> 布\n",
      "y贏了！\n"
     ]
    }
   ],
   "source": [
    "println(\"請輸入：剪刀、石頭、布\")\n",
    "println(\"x\")\n",
    "x = readline()\n",
    "println(\"y\")\n",
    "y = readline()\n",
    "\n",
    "#剪刀\n",
    "if x == \"剪刀\"\n",
    "    if y == \"剪刀\"\n",
    "        println(\"x與y平手\")\n",
    "    elseif y == \"石頭\"\n",
    "        println(\"y贏了！\")\n",
    "    else\n",
    "        println(\"x贏了！\")\n",
    "    end\n",
    "#石頭\n",
    "elseif x == \"石頭\"\n",
    "    if y == \"剪刀\"\n",
    "        println(\"x贏了！\")\n",
    "    elseif y == \"石頭\"\n",
    "        println(\"x與y平手\")\n",
    "    else\n",
    "        println(\"y贏了！\")\n",
    "    end\n",
    "#布\n",
    "else\n",
    "    if y == \"剪刀\"\n",
    "        println(\"x與y平手\")\n",
    "    elseif y == \"石頭\"\n",
    "        println(\"y贏了！\")\n",
    "    else\n",
    "        println(\"x贏了！\")\n",
    "    end\n",
    "end"
   ]
  },
  {
   "cell_type": "markdown",
   "metadata": {},
   "source": [
    "包含"
   ]
  },
  {
   "cell_type": "code",
   "execution_count": 2,
   "metadata": {},
   "outputs": [
    {
     "data": {
      "text/plain": [
       "true"
      ]
     },
     "execution_count": 2,
     "metadata": {},
     "output_type": "execute_result"
    }
   ],
   "source": [
    "occursin(\"1\", \"1:100\") #前面有沒有在後面"
   ]
  },
  {
   "cell_type": "code",
   "execution_count": 8,
   "metadata": {},
   "outputs": [
    {
     "data": {
      "text/plain": [
       "false"
      ]
     },
     "execution_count": 8,
     "metadata": {},
     "output_type": "execute_result"
    }
   ],
   "source": [
    "println(\"請輸入身高\")\n",
    "height = readline()\n",
    "if occursin(\"1\", height) == true\n",
    "elseif occursin(\"2\", height) == true\n",
    "elseif occursin(\"3\", height) == true\n",
    "elseif occursin(\"4\", height) == true\n",
    "elseif occursin(\"5\", height) == true\n",
    "elseif occursin(\"6\", height) == true\n",
    "elseif occursin(\"7\", height) == true\n",
    "elseif occursin(\"8\", height) == true\n",
    "elseif occursin(\"9\", height) == true\n",
    "else\n",
    "    println(\"請輸入身高\")\n",
    "    height = readline()\n",
    "end"
   ]
  },
  {
   "cell_type": "code",
   "execution_count": 9,
   "metadata": {},
   "outputs": [
    {
     "name": "stdout",
     "output_type": "stream",
     "text": [
      "nono\n"
     ]
    }
   ],
   "source": [
    "try\n",
    "    \"100\"-100\n",
    "catch\n",
    "    println(\"nono\")\n",
    "end"
   ]
  },
  {
   "cell_type": "code",
   "execution_count": 10,
   "metadata": {},
   "outputs": [
    {
     "name": "stdout",
     "output_type": "stream",
     "text": [
      "請輸入身高\n",
      "stdin> ww\n",
      "請輸入身高\n",
      "stdin> www\n"
     ]
    },
    {
     "ename": "ArgumentError",
     "evalue": "ArgumentError: cannot parse \"www\" as Float64",
     "output_type": "error",
     "traceback": [
      "ArgumentError: cannot parse \"www\" as Float64",
      "",
      "Stacktrace:",
      " [1] _parse_failure(::Type, ::String, ::Int64, ::Int64) at ./parse.jl:357 (repeats 2 times)",
      " [2] tryparse_internal at ./parse.jl:353 [inlined]",
      " [3] parse(::Type{Float64}, ::String) at ./parse.jl:363",
      " [4] top-level scope at In[10]:6"
     ]
    }
   ],
   "source": [
    "try\n",
    "    println(\"請輸入身高\")\n",
    "    height = parse(Float64, readline())\n",
    "catch\n",
    "    println(\"請輸入身高\")\n",
    "    height = parse(Float64, readline())\n",
    "end"
   ]
  },
  {
   "cell_type": "markdown",
   "metadata": {},
   "source": [
    "# 作業2"
   ]
  },
  {
   "cell_type": "code",
   "execution_count": 1,
   "metadata": {},
   "outputs": [
    {
     "name": "stdout",
     "output_type": "stream",
     "text": [
      "stdin> 66\n",
      "stdin> 77\n",
      "stdin> 88\n",
      "您所輸入的三個數字為：66, 77, 88\n",
      "其中\n",
      "最大的整數為：77\n",
      "最小的整數為：66\n"
     ]
    }
   ],
   "source": [
    "a = parse(Int64, readline())\n",
    "b = parse(Int64, readline())\n",
    "c = parse(Int64, readline())\n",
    "println(\"您所輸入的三個數字為：\",\"$a\",\", $b\",\", $c\")\n",
    "\n",
    "if a > b\n",
    "    if b > c\n",
    "        max_number = a\n",
    "        min_number = c\n",
    "        #a > b > c\n",
    "    else\n",
    "        if a > c\n",
    "            max_number = a\n",
    "            min_number = b\n",
    "           #a > c > b\n",
    "        else\n",
    "            max_number = c\n",
    "            min_number = b\n",
    "            #c > a > b\n",
    "        end\n",
    "    end\n",
    "elseif b > a\n",
    "    if c < a\n",
    "        max_number = b\n",
    "        min_number = c\n",
    "        #b > a > c\n",
    "    else\n",
    "        if b < c\n",
    "            max_number = b\n",
    "            min_number = a\n",
    "            #c > b > a\n",
    "        else\n",
    "            max_number = a\n",
    "            min_number = c\n",
    "            #a > c > b\n",
    "        end\n",
    "    end\n",
    "end\n",
    "println(\"其中\")\n",
    "println(\"最大的整數為：\", max_number)\n",
    "println(\"最小的整數為：\", min_number)"
   ]
  },
  {
   "cell_type": "code",
   "execution_count": 2,
   "metadata": {},
   "outputs": [
    {
     "name": "stdout",
     "output_type": "stream",
     "text": [
      "stdin> 1\n",
      "你猜得太小\n",
      "stdin> 23\n",
      "你猜得太小\n",
      "stdin> 99\n",
      "你猜得太大\n",
      "stdin> 70\n",
      "你猜得太小\n",
      "stdin> 0\n"
     ]
    }
   ],
   "source": [
    "x = rand(1:100)\n",
    "a = 0\n",
    "while a < 5\n",
    "    user_num = parse(Int64, readline())\n",
    "    if user_num ==0\n",
    "        a = 5\n",
    "    elseif x < user_num\n",
    "        println(\"你猜得太大\")\n",
    "    elseif x > user_num\n",
    "        println(\"你猜得太小\")\n",
    "    elseif user_num == x\n",
    "        println(\"你猜對了\")\n",
    "        a = 5\n",
    "    end\n",
    "    a += 1\n",
    "end"
   ]
  },
  {
   "cell_type": "code",
   "execution_count": null,
   "metadata": {},
   "outputs": [],
   "source": []
  }
 ],
 "metadata": {
  "kernelspec": {
   "display_name": "Julia 1.0.1",
   "language": "julia",
   "name": "julia-1.0"
  },
  "language_info": {
   "file_extension": ".jl",
   "mimetype": "application/julia",
   "name": "julia",
   "version": "1.0.1"
  }
 },
 "nbformat": 4,
 "nbformat_minor": 2
}
